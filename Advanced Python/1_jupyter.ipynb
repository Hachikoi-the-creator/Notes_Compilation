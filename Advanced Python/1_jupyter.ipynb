{
 "cells": [
  {
   "cell_type": "code",
   "execution_count": 8,
   "metadata": {},
   "outputs": [
    {
     "name": "stdout",
     "output_type": "stream",
     "text": [
      "<class 'int'> <class 'str'>\n",
      "1821265157376 1821263652848\n",
      "1821264352960\n",
      "False\n",
      "True\n"
     ]
    }
   ],
   "source": [
    "#Data types & data ID's\n",
    "a = [9, 9]\n",
    "b = [9, 9]\n",
    "print(type(99), type(\"99\"))\n",
    "print(id(a), id(\"99\"))\n",
    "print(id(b))#Space in memory a = b\n",
    "\n",
    "print(a is b)#False\n",
    "print(a == b)#True\n"
   ]
  },
  {
   "cell_type": "code",
   "execution_count": 2,
   "metadata": {},
   "outputs": [
    {
     "name": "stdout",
     "output_type": "stream",
     "text": [
      "99\n"
     ]
    }
   ],
   "source": [
    "#NUMERIC VALUES\n",
    "#int - float - complex\n",
    "int_ = 999; float_ = 9.9; complex_ = 9j\n",
    "#Numerical conversions\n"
   ]
  },
  {
   "cell_type": "code",
   "execution_count": null,
   "metadata": {},
   "outputs": [],
   "source": []
  }
 ],
 "metadata": {
  "interpreter": {
   "hash": "8fac594bfae6525c0c41b4041d2d72effa188cc8ead05f81b1fab2bb098927fb"
  },
  "kernelspec": {
   "display_name": "Python 3.8.10 64-bit ('base': conda)",
   "language": "python",
   "name": "python3"
  },
  "language_info": {
   "codemirror_mode": {
    "name": "ipython",
    "version": 3
   },
   "file_extension": ".py",
   "mimetype": "text/x-python",
   "name": "python",
   "nbconvert_exporter": "python",
   "pygments_lexer": "ipython3",
   "version": "3.8.10"
  },
  "orig_nbformat": 4
 },
 "nbformat": 4,
 "nbformat_minor": 2
}
